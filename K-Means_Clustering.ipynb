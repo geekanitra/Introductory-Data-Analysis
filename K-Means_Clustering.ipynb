{
  "cells": [
    {
      "cell_type": "code",
      "execution_count": null,
      "id": "01427882",
      "metadata": {
        "id": "01427882"
      },
      "outputs": [],
      "source": [
        "import pandas as pd\n",
        "import numpy as np\n",
        "from datetime import timedelta\n",
        "import matplotlib.pyplot as plt\n",
        "import seaborn as sns\n",
        "from scipy import stats\n",
        "from sklearn.cluster import KMeans\n",
        "from sklearn.manifold import TSNE\n",
        "from sklearn.cluster import AgglomerativeClustering\n"
      ]
    },
    {
      "cell_type": "code",
      "execution_count": null,
      "id": "819ffa3a",
      "metadata": {
        "id": "819ffa3a"
      },
      "outputs": [],
      "source": [
        "df=pd.read_excel(\"OnlineRetail.xlsx\")"
      ]
    },
    {
      "cell_type": "code",
      "execution_count": null,
      "id": "098f959b",
      "metadata": {
        "colab": {
          "base_uri": "https://localhost:8080/",
          "height": 53
        },
        "id": "098f959b",
        "outputId": "90c1b480-ee9f-4ab6-8231-d9a655a01167"
      },
      "outputs": [
        {
          "output_type": "execute_result",
          "data": {
            "application/vnd.google.colaboratory.intrinsic+json": {
              "type": "string"
            },
            "text/plain": [
              "'\\n-This is an online retail dataset\\n-Dataset has 541,909 Invoices\\n-It has 8 columns InvoiceNo\\tStockCode Description Quantity InvoiceDate\\tUnitPrice CustomerID Country\\n-135080 transactions dont have a customer id\\n-Transaction timeframe is from 2010-12-01 08:26:00 to 2011-12-09 12:50:00\\n'"
            ]
          },
          "metadata": {},
          "execution_count": 1
        }
      ],
      "source": [
        "#Q1'''Read and write a summary of the metadata .'''\n",
        "\n",
        "'''\n",
        "-This is an online retail dataset\n",
        "-Dataset has 541,909 Invoices\n",
        "-It has 8 columns InvoiceNo\tStockCode Description Quantity InvoiceDate\tUnitPrice CustomerID Country\n",
        "-135080 transactions dont have a customer id\n",
        "-Transaction timeframe is from 2010-12-01 08:26:00 to 2011-12-09 12:50:00\n",
        "'''"
      ]
    },
    {
      "cell_type": "code",
      "execution_count": null,
      "id": "789d1c07",
      "metadata": {
        "id": "789d1c07",
        "outputId": "68e9d125-9268-433c-b355-e4e4482e68ef"
      },
      "outputs": [
        {
          "data": {
            "text/plain": [
              "InvoiceNo      0.000000\n",
              "StockCode      0.000000\n",
              "Description    0.002683\n",
              "Quantity       0.000000\n",
              "InvoiceDate    0.000000\n",
              "UnitPrice      0.000000\n",
              "CustomerID     0.249267\n",
              "Country        0.000000\n",
              "dtype: float64"
            ]
          },
          "execution_count": 1047,
          "metadata": {},
          "output_type": "execute_result"
        }
      ],
      "source": [
        "df.isnull().mean()"
      ]
    },
    {
      "cell_type": "code",
      "execution_count": null,
      "id": "c664405e",
      "metadata": {
        "id": "c664405e",
        "outputId": "e2a9ea1a-012b-4188-a094-07dbe7116205"
      },
      "outputs": [
        {
          "data": {
            "text/html": [
              "<div>\n",
              "<style scoped>\n",
              "    .dataframe tbody tr th:only-of-type {\n",
              "        vertical-align: middle;\n",
              "    }\n",
              "\n",
              "    .dataframe tbody tr th {\n",
              "        vertical-align: top;\n",
              "    }\n",
              "\n",
              "    .dataframe thead th {\n",
              "        text-align: right;\n",
              "    }\n",
              "</style>\n",
              "<table border=\"1\" class=\"dataframe\">\n",
              "  <thead>\n",
              "    <tr style=\"text-align: right;\">\n",
              "      <th></th>\n",
              "      <th>InvoiceNo</th>\n",
              "      <th>StockCode</th>\n",
              "      <th>Description</th>\n",
              "      <th>Quantity</th>\n",
              "      <th>InvoiceDate</th>\n",
              "      <th>UnitPrice</th>\n",
              "      <th>CustomerID</th>\n",
              "      <th>Country</th>\n",
              "    </tr>\n",
              "  </thead>\n",
              "  <tbody>\n",
              "    <tr>\n",
              "      <th>142083</th>\n",
              "      <td>548550</td>\n",
              "      <td>22662</td>\n",
              "      <td>LUNCH BAG DOLLY GIRL DESIGN</td>\n",
              "      <td>10</td>\n",
              "      <td>2011-04-01 08:22:00</td>\n",
              "      <td>1.65</td>\n",
              "      <td>18161.0</td>\n",
              "      <td>United Kingdom</td>\n",
              "    </tr>\n",
              "    <tr>\n",
              "      <th>142084</th>\n",
              "      <td>548550</td>\n",
              "      <td>22296</td>\n",
              "      <td>HEART IVORY TRELLIS LARGE</td>\n",
              "      <td>12</td>\n",
              "      <td>2011-04-01 08:22:00</td>\n",
              "      <td>1.65</td>\n",
              "      <td>18161.0</td>\n",
              "      <td>United Kingdom</td>\n",
              "    </tr>\n",
              "    <tr>\n",
              "      <th>142085</th>\n",
              "      <td>548550</td>\n",
              "      <td>21790</td>\n",
              "      <td>VINTAGE SNAP CARDS</td>\n",
              "      <td>12</td>\n",
              "      <td>2011-04-01 08:22:00</td>\n",
              "      <td>0.85</td>\n",
              "      <td>18161.0</td>\n",
              "      <td>United Kingdom</td>\n",
              "    </tr>\n",
              "    <tr>\n",
              "      <th>142086</th>\n",
              "      <td>548550</td>\n",
              "      <td>22622</td>\n",
              "      <td>BOX OF VINTAGE ALPHABET BLOCKS</td>\n",
              "      <td>2</td>\n",
              "      <td>2011-04-01 08:22:00</td>\n",
              "      <td>9.95</td>\n",
              "      <td>18161.0</td>\n",
              "      <td>United Kingdom</td>\n",
              "    </tr>\n",
              "    <tr>\n",
              "      <th>142087</th>\n",
              "      <td>548550</td>\n",
              "      <td>22393</td>\n",
              "      <td>PAPERWEIGHT VINTAGE COLLAGE</td>\n",
              "      <td>6</td>\n",
              "      <td>2011-04-01 08:22:00</td>\n",
              "      <td>2.55</td>\n",
              "      <td>18161.0</td>\n",
              "      <td>United Kingdom</td>\n",
              "    </tr>\n",
              "    <tr>\n",
              "      <th>...</th>\n",
              "      <td>...</td>\n",
              "      <td>...</td>\n",
              "      <td>...</td>\n",
              "      <td>...</td>\n",
              "      <td>...</td>\n",
              "      <td>...</td>\n",
              "      <td>...</td>\n",
              "      <td>...</td>\n",
              "    </tr>\n",
              "    <tr>\n",
              "      <th>541904</th>\n",
              "      <td>581587</td>\n",
              "      <td>22613</td>\n",
              "      <td>PACK OF 20 SPACEBOY NAPKINS</td>\n",
              "      <td>12</td>\n",
              "      <td>2011-12-09 12:50:00</td>\n",
              "      <td>0.85</td>\n",
              "      <td>12680.0</td>\n",
              "      <td>France</td>\n",
              "    </tr>\n",
              "    <tr>\n",
              "      <th>541905</th>\n",
              "      <td>581587</td>\n",
              "      <td>22899</td>\n",
              "      <td>CHILDREN'S APRON DOLLY GIRL</td>\n",
              "      <td>6</td>\n",
              "      <td>2011-12-09 12:50:00</td>\n",
              "      <td>2.10</td>\n",
              "      <td>12680.0</td>\n",
              "      <td>France</td>\n",
              "    </tr>\n",
              "    <tr>\n",
              "      <th>541906</th>\n",
              "      <td>581587</td>\n",
              "      <td>23254</td>\n",
              "      <td>CHILDRENS CUTLERY DOLLY GIRL</td>\n",
              "      <td>4</td>\n",
              "      <td>2011-12-09 12:50:00</td>\n",
              "      <td>4.15</td>\n",
              "      <td>12680.0</td>\n",
              "      <td>France</td>\n",
              "    </tr>\n",
              "    <tr>\n",
              "      <th>541907</th>\n",
              "      <td>581587</td>\n",
              "      <td>23255</td>\n",
              "      <td>CHILDRENS CUTLERY CIRCUS PARADE</td>\n",
              "      <td>4</td>\n",
              "      <td>2011-12-09 12:50:00</td>\n",
              "      <td>4.15</td>\n",
              "      <td>12680.0</td>\n",
              "      <td>France</td>\n",
              "    </tr>\n",
              "    <tr>\n",
              "      <th>541908</th>\n",
              "      <td>581587</td>\n",
              "      <td>22138</td>\n",
              "      <td>BAKING SET 9 PIECE RETROSPOT</td>\n",
              "      <td>3</td>\n",
              "      <td>2011-12-09 12:50:00</td>\n",
              "      <td>4.95</td>\n",
              "      <td>12680.0</td>\n",
              "      <td>France</td>\n",
              "    </tr>\n",
              "  </tbody>\n",
              "</table>\n",
              "<p>303396 rows × 8 columns</p>\n",
              "</div>"
            ],
            "text/plain": [
              "       InvoiceNo StockCode                      Description  Quantity  \\\n",
              "142083    548550     22662      LUNCH BAG DOLLY GIRL DESIGN        10   \n",
              "142084    548550     22296        HEART IVORY TRELLIS LARGE        12   \n",
              "142085    548550     21790               VINTAGE SNAP CARDS        12   \n",
              "142086    548550     22622   BOX OF VINTAGE ALPHABET BLOCKS         2   \n",
              "142087    548550     22393      PAPERWEIGHT VINTAGE COLLAGE         6   \n",
              "...          ...       ...                              ...       ...   \n",
              "541904    581587     22613      PACK OF 20 SPACEBOY NAPKINS        12   \n",
              "541905    581587     22899     CHILDREN'S APRON DOLLY GIRL          6   \n",
              "541906    581587     23254    CHILDRENS CUTLERY DOLLY GIRL          4   \n",
              "541907    581587     23255  CHILDRENS CUTLERY CIRCUS PARADE         4   \n",
              "541908    581587     22138    BAKING SET 9 PIECE RETROSPOT          3   \n",
              "\n",
              "               InvoiceDate  UnitPrice  CustomerID         Country  \n",
              "142083 2011-04-01 08:22:00       1.65     18161.0  United Kingdom  \n",
              "142084 2011-04-01 08:22:00       1.65     18161.0  United Kingdom  \n",
              "142085 2011-04-01 08:22:00       0.85     18161.0  United Kingdom  \n",
              "142086 2011-04-01 08:22:00       9.95     18161.0  United Kingdom  \n",
              "142087 2011-04-01 08:22:00       2.55     18161.0  United Kingdom  \n",
              "...                    ...        ...         ...             ...  \n",
              "541904 2011-12-09 12:50:00       0.85     12680.0          France  \n",
              "541905 2011-12-09 12:50:00       2.10     12680.0          France  \n",
              "541906 2011-12-09 12:50:00       4.15     12680.0          France  \n",
              "541907 2011-12-09 12:50:00       4.15     12680.0          France  \n",
              "541908 2011-12-09 12:50:00       4.95     12680.0          France  \n",
              "\n",
              "[303396 rows x 8 columns]"
            ]
          },
          "execution_count": 1048,
          "metadata": {},
          "output_type": "execute_result"
        }
      ],
      "source": [
        "#Q2''' Select only the transactions that have occurred from 01/04/ 2011 and 09/12/2011 and create a dataset'''\n",
        "\n",
        "df = df[pd.notnull(df['CustomerID'])]\n",
        "df = df[df.Quantity > 0]\n",
        "df = df[df.UnitPrice > 0]\n",
        "df_1=df[df[\"InvoiceDate\"].dt.year>=2011]\n",
        "df_2=df_1[df_1[\"InvoiceDate\"].dt.month>=4]\n",
        "df_2 = df_2[df_2.Quantity > 0]\n",
        "df_2 = df_2[df_2.UnitPrice > 0]\n",
        "df_2"
      ]
    },
    {
      "cell_type": "code",
      "execution_count": null,
      "id": "b220ecb5",
      "metadata": {
        "id": "b220ecb5",
        "outputId": "71a9727c-4b63-474b-caa9-db77da16e5cf"
      },
      "outputs": [
        {
          "data": {
            "text/plain": [
              "InvoiceNo      0.0\n",
              "StockCode      0.0\n",
              "Description    0.0\n",
              "Quantity       0.0\n",
              "InvoiceDate    0.0\n",
              "UnitPrice      0.0\n",
              "CustomerID     0.0\n",
              "Country        0.0\n",
              "dtype: float64"
            ]
          },
          "execution_count": 1049,
          "metadata": {},
          "output_type": "execute_result"
        }
      ],
      "source": [
        "df_2.isnull().mean()"
      ]
    },
    {
      "cell_type": "code",
      "execution_count": null,
      "id": "fba0da9e",
      "metadata": {
        "id": "fba0da9e",
        "outputId": "a9c4dc25-024b-46e2-e5bd-e450a2f7048d"
      },
      "outputs": [
        {
          "data": {
            "text/html": [
              "<div>\n",
              "<style scoped>\n",
              "    .dataframe tbody tr th:only-of-type {\n",
              "        vertical-align: middle;\n",
              "    }\n",
              "\n",
              "    .dataframe tbody tr th {\n",
              "        vertical-align: top;\n",
              "    }\n",
              "\n",
              "    .dataframe thead th {\n",
              "        text-align: right;\n",
              "    }\n",
              "</style>\n",
              "<table border=\"1\" class=\"dataframe\">\n",
              "  <thead>\n",
              "    <tr style=\"text-align: right;\">\n",
              "      <th></th>\n",
              "      <th>CustomerID</th>\n",
              "      <th>LastPurchaseDate</th>\n",
              "      <th>Recency</th>\n",
              "    </tr>\n",
              "  </thead>\n",
              "  <tbody>\n",
              "    <tr>\n",
              "      <th>0</th>\n",
              "      <td>12347.0</td>\n",
              "      <td>2011-12-07 15:52:00</td>\n",
              "      <td>1</td>\n",
              "    </tr>\n",
              "    <tr>\n",
              "      <th>1</th>\n",
              "      <td>12348.0</td>\n",
              "      <td>2011-09-25 13:13:00</td>\n",
              "      <td>74</td>\n",
              "    </tr>\n",
              "    <tr>\n",
              "      <th>2</th>\n",
              "      <td>12349.0</td>\n",
              "      <td>2011-11-21 09:51:00</td>\n",
              "      <td>18</td>\n",
              "    </tr>\n",
              "    <tr>\n",
              "      <th>3</th>\n",
              "      <td>12352.0</td>\n",
              "      <td>2011-11-03 14:37:00</td>\n",
              "      <td>35</td>\n",
              "    </tr>\n",
              "    <tr>\n",
              "      <th>4</th>\n",
              "      <td>12353.0</td>\n",
              "      <td>2011-05-19 17:47:00</td>\n",
              "      <td>203</td>\n",
              "    </tr>\n",
              "  </tbody>\n",
              "</table>\n",
              "</div>"
            ],
            "text/plain": [
              "   CustomerID    LastPurchaseDate  Recency\n",
              "0     12347.0 2011-12-07 15:52:00        1\n",
              "1     12348.0 2011-09-25 13:13:00       74\n",
              "2     12349.0 2011-11-21 09:51:00       18\n",
              "3     12352.0 2011-11-03 14:37:00       35\n",
              "4     12353.0 2011-05-19 17:47:00      203"
            ]
          },
          "execution_count": 1050,
          "metadata": {},
          "output_type": "execute_result"
        }
      ],
      "source": [
        "##Q3\n",
        "df_recency = df_2.groupby(by='CustomerID',\n",
        "                        as_index=False)['InvoiceDate'].max()\n",
        "df_recency.columns = ['CustomerID', 'LastPurchaseDate']\n",
        "recent_date = df_recency['LastPurchaseDate'].max()\n",
        "df_recency['Recency'] = df_recency['LastPurchaseDate'].apply(\n",
        "    lambda x: (recent_date - x).days)\n",
        "df_recency.head()"
      ]
    },
    {
      "cell_type": "code",
      "execution_count": null,
      "id": "a6c7affb",
      "metadata": {
        "id": "a6c7affb",
        "outputId": "2cef73a7-407e-4997-86e4-47a63353df00"
      },
      "outputs": [
        {
          "data": {
            "text/html": [
              "<div>\n",
              "<style scoped>\n",
              "    .dataframe tbody tr th:only-of-type {\n",
              "        vertical-align: middle;\n",
              "    }\n",
              "\n",
              "    .dataframe tbody tr th {\n",
              "        vertical-align: top;\n",
              "    }\n",
              "\n",
              "    .dataframe thead th {\n",
              "        text-align: right;\n",
              "    }\n",
              "</style>\n",
              "<table border=\"1\" class=\"dataframe\">\n",
              "  <thead>\n",
              "    <tr style=\"text-align: right;\">\n",
              "      <th></th>\n",
              "      <th>CustomerID</th>\n",
              "      <th>Frequency</th>\n",
              "    </tr>\n",
              "  </thead>\n",
              "  <tbody>\n",
              "    <tr>\n",
              "      <th>0</th>\n",
              "      <td>12346.0</td>\n",
              "      <td>1</td>\n",
              "    </tr>\n",
              "    <tr>\n",
              "      <th>1</th>\n",
              "      <td>12347.0</td>\n",
              "      <td>182</td>\n",
              "    </tr>\n",
              "    <tr>\n",
              "      <th>2</th>\n",
              "      <td>12348.0</td>\n",
              "      <td>31</td>\n",
              "    </tr>\n",
              "    <tr>\n",
              "      <th>3</th>\n",
              "      <td>12349.0</td>\n",
              "      <td>73</td>\n",
              "    </tr>\n",
              "    <tr>\n",
              "      <th>4</th>\n",
              "      <td>12350.0</td>\n",
              "      <td>17</td>\n",
              "    </tr>\n",
              "  </tbody>\n",
              "</table>\n",
              "</div>"
            ],
            "text/plain": [
              "   CustomerID  Frequency\n",
              "0     12346.0          1\n",
              "1     12347.0        182\n",
              "2     12348.0         31\n",
              "3     12349.0         73\n",
              "4     12350.0         17"
            ]
          },
          "execution_count": 1051,
          "metadata": {},
          "output_type": "execute_result"
        }
      ],
      "source": [
        "frequency_df = df.drop_duplicates().groupby(\n",
        "    by=['CustomerID'], as_index=False)['InvoiceDate'].count()\n",
        "frequency_df.columns = ['CustomerID', 'Frequency']\n",
        "frequency_df.head()"
      ]
    },
    {
      "cell_type": "code",
      "execution_count": null,
      "id": "cc896174",
      "metadata": {
        "id": "cc896174",
        "outputId": "308e1c4f-4ce2-482f-d6e3-7e3f9d53e7fb"
      },
      "outputs": [
        {
          "data": {
            "text/html": [
              "<div>\n",
              "<style scoped>\n",
              "    .dataframe tbody tr th:only-of-type {\n",
              "        vertical-align: middle;\n",
              "    }\n",
              "\n",
              "    .dataframe tbody tr th {\n",
              "        vertical-align: top;\n",
              "    }\n",
              "\n",
              "    .dataframe thead th {\n",
              "        text-align: right;\n",
              "    }\n",
              "</style>\n",
              "<table border=\"1\" class=\"dataframe\">\n",
              "  <thead>\n",
              "    <tr style=\"text-align: right;\">\n",
              "      <th></th>\n",
              "      <th>CustomerID</th>\n",
              "      <th>Monetary</th>\n",
              "    </tr>\n",
              "  </thead>\n",
              "  <tbody>\n",
              "    <tr>\n",
              "      <th>0</th>\n",
              "      <td>12346.0</td>\n",
              "      <td>77183.60</td>\n",
              "    </tr>\n",
              "    <tr>\n",
              "      <th>1</th>\n",
              "      <td>12347.0</td>\n",
              "      <td>4310.00</td>\n",
              "    </tr>\n",
              "    <tr>\n",
              "      <th>2</th>\n",
              "      <td>12348.0</td>\n",
              "      <td>1797.24</td>\n",
              "    </tr>\n",
              "    <tr>\n",
              "      <th>3</th>\n",
              "      <td>12349.0</td>\n",
              "      <td>1757.55</td>\n",
              "    </tr>\n",
              "    <tr>\n",
              "      <th>4</th>\n",
              "      <td>12350.0</td>\n",
              "      <td>334.40</td>\n",
              "    </tr>\n",
              "  </tbody>\n",
              "</table>\n",
              "</div>"
            ],
            "text/plain": [
              "   CustomerID  Monetary\n",
              "0     12346.0  77183.60\n",
              "1     12347.0   4310.00\n",
              "2     12348.0   1797.24\n",
              "3     12349.0   1757.55\n",
              "4     12350.0    334.40"
            ]
          },
          "execution_count": 1052,
          "metadata": {},
          "output_type": "execute_result"
        }
      ],
      "source": [
        "\n",
        "df['Total'] = df['UnitPrice']*df['Quantity']\n",
        "monetary_df = df.groupby(by='CustomerID', as_index=False)['Total'].sum()\n",
        "monetary_df.columns = ['CustomerID', 'Monetary']\n",
        "monetary_df.head()"
      ]
    },
    {
      "cell_type": "code",
      "execution_count": null,
      "id": "0da3832d",
      "metadata": {
        "id": "0da3832d",
        "outputId": "cbe14a2c-5ac7-46bc-9a27-56b2fa0e6183"
      },
      "outputs": [
        {
          "data": {
            "text/html": [
              "<div>\n",
              "<style scoped>\n",
              "    .dataframe tbody tr th:only-of-type {\n",
              "        vertical-align: middle;\n",
              "    }\n",
              "\n",
              "    .dataframe tbody tr th {\n",
              "        vertical-align: top;\n",
              "    }\n",
              "\n",
              "    .dataframe thead th {\n",
              "        text-align: right;\n",
              "    }\n",
              "</style>\n",
              "<table border=\"1\" class=\"dataframe\">\n",
              "  <thead>\n",
              "    <tr style=\"text-align: right;\">\n",
              "      <th></th>\n",
              "      <th>CustomerID</th>\n",
              "      <th>Recency</th>\n",
              "      <th>Frequency</th>\n",
              "      <th>Monetary</th>\n",
              "    </tr>\n",
              "  </thead>\n",
              "  <tbody>\n",
              "    <tr>\n",
              "      <th>0</th>\n",
              "      <td>12347.0</td>\n",
              "      <td>1</td>\n",
              "      <td>182</td>\n",
              "      <td>4310.00</td>\n",
              "    </tr>\n",
              "    <tr>\n",
              "      <th>1</th>\n",
              "      <td>12348.0</td>\n",
              "      <td>74</td>\n",
              "      <td>31</td>\n",
              "      <td>1797.24</td>\n",
              "    </tr>\n",
              "    <tr>\n",
              "      <th>2</th>\n",
              "      <td>12349.0</td>\n",
              "      <td>18</td>\n",
              "      <td>73</td>\n",
              "      <td>1757.55</td>\n",
              "    </tr>\n",
              "    <tr>\n",
              "      <th>3</th>\n",
              "      <td>12352.0</td>\n",
              "      <td>35</td>\n",
              "      <td>85</td>\n",
              "      <td>2506.04</td>\n",
              "    </tr>\n",
              "    <tr>\n",
              "      <th>4</th>\n",
              "      <td>12353.0</td>\n",
              "      <td>203</td>\n",
              "      <td>4</td>\n",
              "      <td>89.00</td>\n",
              "    </tr>\n",
              "  </tbody>\n",
              "</table>\n",
              "</div>"
            ],
            "text/plain": [
              "   CustomerID  Recency  Frequency  Monetary\n",
              "0     12347.0        1        182   4310.00\n",
              "1     12348.0       74         31   1797.24\n",
              "2     12349.0       18         73   1757.55\n",
              "3     12352.0       35         85   2506.04\n",
              "4     12353.0      203          4     89.00"
            ]
          },
          "execution_count": 1053,
          "metadata": {},
          "output_type": "execute_result"
        }
      ],
      "source": [
        "rf_df = df_recency.merge(frequency_df, on='CustomerID')\n",
        "rfm_df = rf_df.merge(monetary_df, on='CustomerID').drop(\n",
        "    columns='LastPurchaseDate')\n",
        "rfm_df.head()"
      ]
    },
    {
      "cell_type": "code",
      "execution_count": null,
      "id": "716b4cb1",
      "metadata": {
        "id": "716b4cb1"
      },
      "outputs": [],
      "source": [
        "quantiles = rfm_df.quantile(q=[0.25,0.50,0.75])\n",
        "quantiles = quantiles.to_dict()"
      ]
    },
    {
      "cell_type": "code",
      "execution_count": null,
      "id": "d5e89f49",
      "metadata": {
        "id": "d5e89f49"
      },
      "outputs": [],
      "source": [
        "segmented_rfm = rfm_df.copy()"
      ]
    },
    {
      "cell_type": "code",
      "execution_count": null,
      "id": "94b5fa28",
      "metadata": {
        "id": "94b5fa28"
      },
      "outputs": [],
      "source": [
        "def RScore(x,p,d):\n",
        "    if x <= d[p][0.25]:\n",
        "        return 1\n",
        "    elif x <= d[p][0.50]:\n",
        "        return 2\n",
        "    elif x <= d[p][0.75]: \n",
        "        return 3\n",
        "    else:\n",
        "        return 4\n",
        "    \n",
        "def FMScore(x,p,d):\n",
        "    if x <= d[p][0.25]:\n",
        "        return 4\n",
        "    elif x <= d[p][0.50]:\n",
        "        return 3\n",
        "    elif x <= d[p][0.75]: \n",
        "        return 2\n",
        "    else:\n",
        "        return 1"
      ]
    },
    {
      "cell_type": "code",
      "execution_count": null,
      "id": "4742f584",
      "metadata": {
        "id": "4742f584",
        "outputId": "f5f7d1ff-c88f-4f4e-de14-6240e805043c"
      },
      "outputs": [
        {
          "data": {
            "text/html": [
              "<div>\n",
              "<style scoped>\n",
              "    .dataframe tbody tr th:only-of-type {\n",
              "        vertical-align: middle;\n",
              "    }\n",
              "\n",
              "    .dataframe tbody tr th {\n",
              "        vertical-align: top;\n",
              "    }\n",
              "\n",
              "    .dataframe thead th {\n",
              "        text-align: right;\n",
              "    }\n",
              "</style>\n",
              "<table border=\"1\" class=\"dataframe\">\n",
              "  <thead>\n",
              "    <tr style=\"text-align: right;\">\n",
              "      <th></th>\n",
              "      <th>CustomerID</th>\n",
              "      <th>Recency</th>\n",
              "      <th>Frequency</th>\n",
              "      <th>Monetary</th>\n",
              "      <th>R_quartile</th>\n",
              "      <th>F_quartile</th>\n",
              "      <th>M_quartile</th>\n",
              "    </tr>\n",
              "  </thead>\n",
              "  <tbody>\n",
              "    <tr>\n",
              "      <th>0</th>\n",
              "      <td>12347.0</td>\n",
              "      <td>1</td>\n",
              "      <td>182</td>\n",
              "      <td>4310.00</td>\n",
              "      <td>1</td>\n",
              "      <td>1</td>\n",
              "      <td>1</td>\n",
              "    </tr>\n",
              "    <tr>\n",
              "      <th>1</th>\n",
              "      <td>12348.0</td>\n",
              "      <td>74</td>\n",
              "      <td>31</td>\n",
              "      <td>1797.24</td>\n",
              "      <td>3</td>\n",
              "      <td>3</td>\n",
              "      <td>2</td>\n",
              "    </tr>\n",
              "    <tr>\n",
              "      <th>2</th>\n",
              "      <td>12349.0</td>\n",
              "      <td>18</td>\n",
              "      <td>73</td>\n",
              "      <td>1757.55</td>\n",
              "      <td>2</td>\n",
              "      <td>2</td>\n",
              "      <td>2</td>\n",
              "    </tr>\n",
              "    <tr>\n",
              "      <th>3</th>\n",
              "      <td>12352.0</td>\n",
              "      <td>35</td>\n",
              "      <td>85</td>\n",
              "      <td>2506.04</td>\n",
              "      <td>2</td>\n",
              "      <td>2</td>\n",
              "      <td>1</td>\n",
              "    </tr>\n",
              "    <tr>\n",
              "      <th>4</th>\n",
              "      <td>12353.0</td>\n",
              "      <td>203</td>\n",
              "      <td>4</td>\n",
              "      <td>89.00</td>\n",
              "      <td>4</td>\n",
              "      <td>4</td>\n",
              "      <td>4</td>\n",
              "    </tr>\n",
              "  </tbody>\n",
              "</table>\n",
              "</div>"
            ],
            "text/plain": [
              "   CustomerID  Recency  Frequency  Monetary  R_quartile  F_quartile  \\\n",
              "0     12347.0        1        182   4310.00           1           1   \n",
              "1     12348.0       74         31   1797.24           3           3   \n",
              "2     12349.0       18         73   1757.55           2           2   \n",
              "3     12352.0       35         85   2506.04           2           2   \n",
              "4     12353.0      203          4     89.00           4           4   \n",
              "\n",
              "   M_quartile  \n",
              "0           1  \n",
              "1           2  \n",
              "2           2  \n",
              "3           1  \n",
              "4           4  "
            ]
          },
          "execution_count": 1057,
          "metadata": {},
          "output_type": "execute_result"
        }
      ],
      "source": [
        "segmented_rfm['R_quartile'] = segmented_rfm['Recency'].apply(RScore, args=('Recency',quantiles))\n",
        "segmented_rfm['F_quartile'] = segmented_rfm['Frequency'].apply(FMScore, args=('Frequency',quantiles))\n",
        "segmented_rfm['M_quartile'] = segmented_rfm['Monetary'].apply(FMScore, args=('Monetary',quantiles))\n",
        "segmented_rfm.head()"
      ]
    },
    {
      "cell_type": "code",
      "execution_count": null,
      "id": "082f9f9e",
      "metadata": {
        "id": "082f9f9e",
        "outputId": "133439f8-1f18-492c-f6b7-617c673e3aaf"
      },
      "outputs": [
        {
          "data": {
            "text/html": [
              "<div>\n",
              "<style scoped>\n",
              "    .dataframe tbody tr th:only-of-type {\n",
              "        vertical-align: middle;\n",
              "    }\n",
              "\n",
              "    .dataframe tbody tr th {\n",
              "        vertical-align: top;\n",
              "    }\n",
              "\n",
              "    .dataframe thead th {\n",
              "        text-align: right;\n",
              "    }\n",
              "</style>\n",
              "<table border=\"1\" class=\"dataframe\">\n",
              "  <thead>\n",
              "    <tr style=\"text-align: right;\">\n",
              "      <th></th>\n",
              "      <th>CustomerID</th>\n",
              "      <th>Recency</th>\n",
              "      <th>Frequency</th>\n",
              "      <th>Monetary</th>\n",
              "      <th>R_quartile</th>\n",
              "      <th>F_quartile</th>\n",
              "      <th>M_quartile</th>\n",
              "      <th>RFM_Segment</th>\n",
              "    </tr>\n",
              "  </thead>\n",
              "  <tbody>\n",
              "    <tr>\n",
              "      <th>0</th>\n",
              "      <td>12347.0</td>\n",
              "      <td>1</td>\n",
              "      <td>182</td>\n",
              "      <td>4310.00</td>\n",
              "      <td>1</td>\n",
              "      <td>1</td>\n",
              "      <td>1</td>\n",
              "      <td>111</td>\n",
              "    </tr>\n",
              "    <tr>\n",
              "      <th>1</th>\n",
              "      <td>12348.0</td>\n",
              "      <td>74</td>\n",
              "      <td>31</td>\n",
              "      <td>1797.24</td>\n",
              "      <td>3</td>\n",
              "      <td>3</td>\n",
              "      <td>2</td>\n",
              "      <td>332</td>\n",
              "    </tr>\n",
              "    <tr>\n",
              "      <th>2</th>\n",
              "      <td>12349.0</td>\n",
              "      <td>18</td>\n",
              "      <td>73</td>\n",
              "      <td>1757.55</td>\n",
              "      <td>2</td>\n",
              "      <td>2</td>\n",
              "      <td>2</td>\n",
              "      <td>222</td>\n",
              "    </tr>\n",
              "    <tr>\n",
              "      <th>3</th>\n",
              "      <td>12352.0</td>\n",
              "      <td>35</td>\n",
              "      <td>85</td>\n",
              "      <td>2506.04</td>\n",
              "      <td>2</td>\n",
              "      <td>2</td>\n",
              "      <td>1</td>\n",
              "      <td>221</td>\n",
              "    </tr>\n",
              "    <tr>\n",
              "      <th>4</th>\n",
              "      <td>12353.0</td>\n",
              "      <td>203</td>\n",
              "      <td>4</td>\n",
              "      <td>89.00</td>\n",
              "      <td>4</td>\n",
              "      <td>4</td>\n",
              "      <td>4</td>\n",
              "      <td>444</td>\n",
              "    </tr>\n",
              "  </tbody>\n",
              "</table>\n",
              "</div>"
            ],
            "text/plain": [
              "   CustomerID  Recency  Frequency  Monetary  R_quartile  F_quartile  \\\n",
              "0     12347.0        1        182   4310.00           1           1   \n",
              "1     12348.0       74         31   1797.24           3           3   \n",
              "2     12349.0       18         73   1757.55           2           2   \n",
              "3     12352.0       35         85   2506.04           2           2   \n",
              "4     12353.0      203          4     89.00           4           4   \n",
              "\n",
              "   M_quartile RFM_Segment  \n",
              "0           1         111  \n",
              "1           2         332  \n",
              "2           2         222  \n",
              "3           1         221  \n",
              "4           4         444  "
            ]
          },
          "execution_count": 1058,
          "metadata": {},
          "output_type": "execute_result"
        }
      ],
      "source": [
        "segmented_rfm['RFM_Segment'] = segmented_rfm.R_quartile.map(str)+segmented_rfm.F_quartile.map(str)+segmented_rfm.M_quartile.map(str)\n",
        "segmented_rfm.head()"
      ]
    },
    {
      "cell_type": "code",
      "execution_count": null,
      "id": "fe03d4b1",
      "metadata": {
        "id": "fe03d4b1",
        "outputId": "b2a88672-bde6-4249-ad9c-c1d182ee49fa"
      },
      "outputs": [
        {
          "data": {
            "text/html": [
              "<div>\n",
              "<style scoped>\n",
              "    .dataframe tbody tr th:only-of-type {\n",
              "        vertical-align: middle;\n",
              "    }\n",
              "\n",
              "    .dataframe tbody tr th {\n",
              "        vertical-align: top;\n",
              "    }\n",
              "\n",
              "    .dataframe thead th {\n",
              "        text-align: right;\n",
              "    }\n",
              "</style>\n",
              "<table border=\"1\" class=\"dataframe\">\n",
              "  <thead>\n",
              "    <tr style=\"text-align: right;\">\n",
              "      <th></th>\n",
              "      <th>CustomerID</th>\n",
              "      <th>Recency</th>\n",
              "      <th>Frequency</th>\n",
              "      <th>Monetary</th>\n",
              "      <th>R_quartile</th>\n",
              "      <th>F_quartile</th>\n",
              "      <th>M_quartile</th>\n",
              "      <th>RFM_Segment</th>\n",
              "      <th>RFM_Score</th>\n",
              "    </tr>\n",
              "  </thead>\n",
              "  <tbody>\n",
              "    <tr>\n",
              "      <th>0</th>\n",
              "      <td>12347.0</td>\n",
              "      <td>1</td>\n",
              "      <td>182</td>\n",
              "      <td>4310.00</td>\n",
              "      <td>1</td>\n",
              "      <td>1</td>\n",
              "      <td>1</td>\n",
              "      <td>111</td>\n",
              "      <td>3</td>\n",
              "    </tr>\n",
              "    <tr>\n",
              "      <th>1</th>\n",
              "      <td>12348.0</td>\n",
              "      <td>74</td>\n",
              "      <td>31</td>\n",
              "      <td>1797.24</td>\n",
              "      <td>3</td>\n",
              "      <td>3</td>\n",
              "      <td>2</td>\n",
              "      <td>332</td>\n",
              "      <td>8</td>\n",
              "    </tr>\n",
              "    <tr>\n",
              "      <th>2</th>\n",
              "      <td>12349.0</td>\n",
              "      <td>18</td>\n",
              "      <td>73</td>\n",
              "      <td>1757.55</td>\n",
              "      <td>2</td>\n",
              "      <td>2</td>\n",
              "      <td>2</td>\n",
              "      <td>222</td>\n",
              "      <td>6</td>\n",
              "    </tr>\n",
              "    <tr>\n",
              "      <th>3</th>\n",
              "      <td>12352.0</td>\n",
              "      <td>35</td>\n",
              "      <td>85</td>\n",
              "      <td>2506.04</td>\n",
              "      <td>2</td>\n",
              "      <td>2</td>\n",
              "      <td>1</td>\n",
              "      <td>221</td>\n",
              "      <td>5</td>\n",
              "    </tr>\n",
              "    <tr>\n",
              "      <th>4</th>\n",
              "      <td>12353.0</td>\n",
              "      <td>203</td>\n",
              "      <td>4</td>\n",
              "      <td>89.00</td>\n",
              "      <td>4</td>\n",
              "      <td>4</td>\n",
              "      <td>4</td>\n",
              "      <td>444</td>\n",
              "      <td>12</td>\n",
              "    </tr>\n",
              "  </tbody>\n",
              "</table>\n",
              "</div>"
            ],
            "text/plain": [
              "   CustomerID  Recency  Frequency  Monetary  R_quartile  F_quartile  \\\n",
              "0     12347.0        1        182   4310.00           1           1   \n",
              "1     12348.0       74         31   1797.24           3           3   \n",
              "2     12349.0       18         73   1757.55           2           2   \n",
              "3     12352.0       35         85   2506.04           2           2   \n",
              "4     12353.0      203          4     89.00           4           4   \n",
              "\n",
              "   M_quartile RFM_Segment  RFM_Score  \n",
              "0           1         111          3  \n",
              "1           2         332          8  \n",
              "2           2         222          6  \n",
              "3           1         221          5  \n",
              "4           4         444         12  "
            ]
          },
          "execution_count": 1059,
          "metadata": {},
          "output_type": "execute_result"
        }
      ],
      "source": [
        "segmented_rfm['RFM_Score'] = segmented_rfm[['R_quartile','F_quartile','M_quartile']].sum(axis=1)\n",
        "segmented_rfm.head()"
      ]
    },
    {
      "cell_type": "code",
      "execution_count": null,
      "id": "18fc2782",
      "metadata": {
        "id": "18fc2782",
        "outputId": "5dc65269-086c-465e-d354-f1dce713bc56"
      },
      "outputs": [
        {
          "data": {
            "text/html": [
              "<div>\n",
              "<style scoped>\n",
              "    .dataframe tbody tr th:only-of-type {\n",
              "        vertical-align: middle;\n",
              "    }\n",
              "\n",
              "    .dataframe tbody tr th {\n",
              "        vertical-align: top;\n",
              "    }\n",
              "\n",
              "    .dataframe thead tr th {\n",
              "        text-align: left;\n",
              "    }\n",
              "\n",
              "    .dataframe thead tr:last-of-type th {\n",
              "        text-align: right;\n",
              "    }\n",
              "</style>\n",
              "<table border=\"1\" class=\"dataframe\">\n",
              "  <thead>\n",
              "    <tr>\n",
              "      <th></th>\n",
              "      <th>Recency</th>\n",
              "      <th>Frequency</th>\n",
              "      <th colspan=\"2\" halign=\"left\">Monetary</th>\n",
              "    </tr>\n",
              "    <tr>\n",
              "      <th></th>\n",
              "      <th>mean</th>\n",
              "      <th>mean</th>\n",
              "      <th>mean</th>\n",
              "      <th>count</th>\n",
              "    </tr>\n",
              "    <tr>\n",
              "      <th>RFM_Score</th>\n",
              "      <th></th>\n",
              "      <th></th>\n",
              "      <th></th>\n",
              "      <th></th>\n",
              "    </tr>\n",
              "  </thead>\n",
              "  <tbody>\n",
              "    <tr>\n",
              "      <th>3</th>\n",
              "      <td>5.3</td>\n",
              "      <td>401.6</td>\n",
              "      <td>10343.1</td>\n",
              "      <td>377</td>\n",
              "    </tr>\n",
              "    <tr>\n",
              "      <th>4</th>\n",
              "      <td>16.7</td>\n",
              "      <td>205.2</td>\n",
              "      <td>4422.2</td>\n",
              "      <td>348</td>\n",
              "    </tr>\n",
              "    <tr>\n",
              "      <th>5</th>\n",
              "      <td>27.0</td>\n",
              "      <td>122.8</td>\n",
              "      <td>2467.5</td>\n",
              "      <td>367</td>\n",
              "    </tr>\n",
              "    <tr>\n",
              "      <th>6</th>\n",
              "      <td>36.5</td>\n",
              "      <td>91.9</td>\n",
              "      <td>2020.8</td>\n",
              "      <td>377</td>\n",
              "    </tr>\n",
              "    <tr>\n",
              "      <th>7</th>\n",
              "      <td>47.5</td>\n",
              "      <td>64.2</td>\n",
              "      <td>1164.2</td>\n",
              "      <td>394</td>\n",
              "    </tr>\n",
              "    <tr>\n",
              "      <th>8</th>\n",
              "      <td>66.9</td>\n",
              "      <td>48.0</td>\n",
              "      <td>873.1</td>\n",
              "      <td>447</td>\n",
              "    </tr>\n",
              "    <tr>\n",
              "      <th>9</th>\n",
              "      <td>66.1</td>\n",
              "      <td>30.9</td>\n",
              "      <td>762.8</td>\n",
              "      <td>437</td>\n",
              "    </tr>\n",
              "    <tr>\n",
              "      <th>10</th>\n",
              "      <td>97.0</td>\n",
              "      <td>22.5</td>\n",
              "      <td>417.5</td>\n",
              "      <td>467</td>\n",
              "    </tr>\n",
              "    <tr>\n",
              "      <th>11</th>\n",
              "      <td>113.3</td>\n",
              "      <td>15.3</td>\n",
              "      <td>276.4</td>\n",
              "      <td>326</td>\n",
              "    </tr>\n",
              "    <tr>\n",
              "      <th>12</th>\n",
              "      <td>177.5</td>\n",
              "      <td>9.7</td>\n",
              "      <td>188.8</td>\n",
              "      <td>309</td>\n",
              "    </tr>\n",
              "  </tbody>\n",
              "</table>\n",
              "</div>"
            ],
            "text/plain": [
              "          Recency Frequency Monetary      \n",
              "             mean      mean     mean count\n",
              "RFM_Score                                 \n",
              "3             5.3     401.6  10343.1   377\n",
              "4            16.7     205.2   4422.2   348\n",
              "5            27.0     122.8   2467.5   367\n",
              "6            36.5      91.9   2020.8   377\n",
              "7            47.5      64.2   1164.2   394\n",
              "8            66.9      48.0    873.1   447\n",
              "9            66.1      30.9    762.8   437\n",
              "10           97.0      22.5    417.5   467\n",
              "11          113.3      15.3    276.4   326\n",
              "12          177.5       9.7    188.8   309"
            ]
          },
          "execution_count": 1060,
          "metadata": {},
          "output_type": "execute_result"
        }
      ],
      "source": [
        "segmented_rfm.groupby('RFM_Score').agg({\n",
        "    'Recency': 'mean',\n",
        "    'Frequency': 'mean',\n",
        "    'Monetary': ['mean', 'count'] }).round(1)"
      ]
    },
    {
      "cell_type": "code",
      "execution_count": null,
      "id": "e9b0e09b",
      "metadata": {
        "id": "e9b0e09b"
      },
      "outputs": [],
      "source": [
        "def check_skew(df_skew, column):\n",
        "    skew = stats.skew(df_skew[column])\n",
        "    skewtest = stats.skewtest(df_skew[column])\n",
        "    plt.title('Distribution of ' + column)\n",
        "    sns.histplot(df_skew[column])\n",
        "    print(\"{}'s: Skew: {}, : {}\".format(column, skew, skewtest))\n",
        "    return"
      ]
    },
    {
      "cell_type": "code",
      "execution_count": null,
      "id": "b3852f24",
      "metadata": {
        "id": "b3852f24"
      },
      "outputs": [],
      "source": [
        "df_rfm_log = rfm_df.copy()"
      ]
    },
    {
      "cell_type": "code",
      "execution_count": null,
      "id": "6a7e734a",
      "metadata": {
        "id": "6a7e734a",
        "outputId": "a25dbcf4-2316-4685-d334-b30cf19b2175"
      },
      "outputs": [
        {
          "name": "stdout",
          "output_type": "stream",
          "text": [
            "Recency's: Skew: -0.6319569882408304, : SkewtestResult(statistic=-14.763508608869413, pvalue=2.518314875845056e-49)\n",
            "Frequency's: Skew: -0.0559214223790976, : SkewtestResult(statistic=-1.4180157372255786, pvalue=0.15618617025101994)\n",
            "Monetary's: Skew: 0.35291900693595724, : SkewtestResult(statistic=8.699662778405349, pvalue=3.3287185793219543e-18)\n"
          ]
        },
        {
          "data": {
            "image/png": "[encoded data removed]",
            "text/plain": [
              "<Figure size 648x648 with 3 Axes>"
            ]
          },
          "metadata": {
            "needs_background": "light"
          },
          "output_type": "display_data"
        }
      ],
      "source": [
        "df_rfm_log = np.log(df_rfm_log+1)\n",
        "\n",
        "plt.figure(figsize=(9, 9))\n",
        "\n",
        "plt.subplot(3, 1, 1)\n",
        "check_skew(df_rfm_log,'Recency')\n",
        "\n",
        "plt.subplot(3, 1, 2)\n",
        "check_skew(df_rfm_log,'Frequency')\n",
        "\n",
        "plt.subplot(3, 1, 3)\n",
        "check_skew(df_rfm_log,'Monetary')\n",
        "\n",
        "plt.tight_layout()\n",
        "plt.savefig('after_transform.png', format='png', dpi=1000)"
      ]
    },
    {
      "cell_type": "code",
      "execution_count": null,
      "id": "a9ef8cba",
      "metadata": {
        "id": "a9ef8cba"
      },
      "outputs": [],
      "source": [
        ""
      ]
    },
    {
      "cell_type": "code",
      "execution_count": null,
      "id": "d0b671ce",
      "metadata": {
        "id": "d0b671ce"
      },
      "outputs": [],
      "source": [
        "##Q14 and Q15\n",
        "from scipy.spatial.distance import cdist\n",
        "distortions = [] \n",
        "inertias = [] \n",
        "mapping1 = {} \n",
        "mapping2 = {} \n",
        "K = range(1,10) \n",
        "  \n",
        "for k in K: \n",
        "    #Building and fitting the model \n",
        "    kmeanModel = KMeans(n_clusters=k).fit(df_rfm_log) \n",
        "    kmeanModel.fit(df_rfm_log)     \n",
        "      \n",
        "    distortions.append(sum(np.min(cdist(df_rfm_log, kmeanModel.cluster_centers_, \n",
        "                      'euclidean'),axis=1)) / df_rfm_log.shape[0]) \n",
        "    inertias.append(kmeanModel.inertia_) \n",
        "  \n",
        "    mapping1[k] = sum(np.min(cdist(df_rfm_log, kmeanModel.cluster_centers_, \n",
        "                 'euclidean'),axis=1)) / df_rfm_log.shape[0] \n",
        "    mapping2[k] = kmeanModel.inertia_ "
      ]
    },
    {
      "cell_type": "code",
      "execution_count": null,
      "id": "0d9aeed4",
      "metadata": {
        "id": "0d9aeed4",
        "outputId": "0c891bee-6421-4ee7-d129-06546553a7d1"
      },
      "outputs": [
        {
          "data": {
            "image/png": "[encoded data removed]",
            "text/plain": [
              "<Figure size 432x288 with 1 Axes>"
            ]
          },
          "metadata": {
            "needs_background": "light"
          },
          "output_type": "display_data"
        }
      ],
      "source": [
        "plt.plot(K, distortions, 'bx-') \n",
        "plt.xlabel('Values of K') \n",
        "plt.ylabel('Distortion') \n",
        "plt.title('The Elbow Method using Distortion') \n",
        "plt.show() "
      ]
    },
    {
      "cell_type": "code",
      "execution_count": null,
      "id": "99644235",
      "metadata": {
        "id": "99644235",
        "outputId": "fadb0603-543b-41a1-b649-df727d20d329"
      },
      "outputs": [
        {
          "data": {
            "text/plain": [
              "<AxesSubplot:>"
            ]
          },
          "execution_count": 1068,
          "metadata": {},
          "output_type": "execute_result"
        },
        {
          "data": {
            "image/png": "[encoded data removed]",
            "text/plain": [
              "<Figure size 432x288 with 1 Axes>"
            ]
          },
          "metadata": {
            "needs_background": "light"
          },
          "output_type": "display_data"
        }
      ],
      "source": [
        "#Q16\n",
        "kmeans = KMeans(n_clusters = 5, random_state = 1)\n",
        "kmeans.fit(df_rfm_log)\n",
        "\n",
        "cluster_labels = kmeans.labels_\n",
        "        \n",
        "df_new = df_rfm_log.assign(Cluster = cluster_labels)\n",
        "    \n",
        "\n",
        "model = TSNE(random_state=1)\n",
        "transformed = model.fit_transform(df_new)\n",
        "\n",
        "sns.scatterplot(x=transformed[:,0], y=transformed[:,1], hue=cluster_labels, style=cluster_labels, palette=\"Set1\")\n"
      ]
    },
    {
      "cell_type": "code",
      "execution_count": null,
      "id": "17e43bc4",
      "metadata": {
        "id": "17e43bc4",
        "outputId": "36532131-1c0d-4971-e2cc-ecb2e9659c07"
      },
      "outputs": [
        {
          "name": "stdout",
          "output_type": "stream",
          "text": [
            "[[9.64449395 4.42100885 2.21601538 5.21193591]\n",
            " [9.6237176  3.55490085 4.83028668 7.63509829]\n",
            " [9.621113   1.45569039 5.44247065 8.46353403]\n",
            " [9.63134974 2.37578732 3.62903234 6.3571686 ]\n",
            " [9.62734421 4.54260309 3.60261292 6.43735769]]\n"
          ]
        }
      ],
      "source": [
        "#Q17\n",
        "centers = kmeans.cluster_centers_\n",
        "print(centers)"
      ]
    },
    {
      "cell_type": "code",
      "execution_count": null,
      "id": "45e4a7a5",
      "metadata": {
        "id": "45e4a7a5"
      },
      "outputs": [],
      "source": [
        "#Q18\n",
        "ac5 = AgglomerativeClustering(n_clusters = 5)"
      ]
    },
    {
      "cell_type": "code",
      "execution_count": null,
      "id": "98c1b90c",
      "metadata": {
        "id": "98c1b90c"
      },
      "outputs": [],
      "source": [
        "'''Visualize the clusters using the dendrogram.'''"
      ]
    }
  ],
  "metadata": {
    "kernelspec": {
      "display_name": "Python 3",
      "language": "python",
      "name": "python3"
    },
    "language_info": {
      "codemirror_mode": {
        "name": "ipython",
        "version": 3
      },
      "file_extension": ".py",
      "mimetype": "text/x-python",
      "name": "python",
      "nbconvert_exporter": "python",
      "pygments_lexer": "ipython3",
      "version": "3.8.8"
    },
    "colab": {
      "name": "Lab7.ipynb",
      "provenance": [],
      "collapsed_sections": []
    }
  },
  "nbformat": 4,
  "nbformat_minor": 5
}